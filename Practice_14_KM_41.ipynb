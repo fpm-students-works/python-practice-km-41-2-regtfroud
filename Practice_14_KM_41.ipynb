{
  "cells": [
    {
      "cell_type": "markdown",
      "metadata": {
        "id": "FMqboNwO4rVs"
      },
      "source": [
        "# **Курс \"Програмування на мові Python\"**"
      ]
    },
    {
      "cell_type": "markdown",
      "metadata": {
        "id": "A2T6MigL5Z06"
      },
      "source": [
        "## **Практичне зайняття №16**\n",
        "\n",
        "### Тема: \"Декоратори\""
      ]
    },
    {
      "cell_type": "markdown",
      "metadata": {},
      "source": [
        "### **Завдання 1 (3 бали)**\n",
        "\n",
        "Реалізуйте підрахунок площі трикутника з використанням декоратора, який перевірятиме можливість побудови трикутника з трьох введених користувачем сторін.\n",
        "\n",
        "1. Напишіть функцію area_calculation, яка підраховуватиме площу трикутника за трьома сторонами. Для підрахунку можете скористатись формулою Герона.\n",
        "\n",
        "2. Напишіть функцію check, яка перевірятиме правильність введених користувачем значень (значення мають бути додатними числами, не обов'язково цілими).\n",
        "\n",
        "3. Створіть декоратор triangle_ineq, який перевірятиме виконання нерівності трикутрика для трьох заданих користувачем сторін. Навісьте декоратор triangle_ineq на функція area_calculation та перевірте правильність роботи програми."
      ]
    },
    {
      "cell_type": "code",
      "execution_count": 9,
      "metadata": {},
      "outputs": [
        {
          "name": "stdout",
          "output_type": "stream",
          "text": [
            "Площа трикутника: 17.32\n"
          ]
        }
      ],
      "source": [
        "def triangle(func):\n",
        "    def wrapper(a, b, c):\n",
        "        if a + b > c and a + c > b and b + c > a:\n",
        "            return func(a, b, c)\n",
        "        else:\n",
        "            raise ValueError('Трикутник із заданими сторонами побудувати неможливо.')\n",
        "    return wrapper\n",
        "\n",
        "\n",
        "def check(a, b, c):\n",
        "    try:\n",
        "        a, b, c = float(a), float(b), float(c)\n",
        "        if a > 0 and b > 0 and c > 0:\n",
        "            return a, b, c\n",
        "        else:\n",
        "            raise ValueError('Сторони трикутника мають бути додатними числами.')\n",
        "    except ValueError as e:\n",
        "        raise ValueError(f'Некоректне значення: {e}')\n",
        "\n",
        "\n",
        "@triangle\n",
        "def area_calc(a, b, c):\n",
        "    s = (a + b + c) / 2\n",
        "    area = (s * (s - a) * (s - b) * (s - c)) ** 0.5\n",
        "    return area\n",
        "\n",
        "\n",
        "if __name__ == '__main__':\n",
        "    try:\n",
        "        a = input('Введіть сторону a: ')\n",
        "        b = input('Введіть сторону b: ')\n",
        "        c = input('Введіть сторону c: ')\n",
        "\n",
        "        a, b, c = check(a, b, c)\n",
        "        area = area_calc(a, b, c)\n",
        "        print(f'Площа трикутника: {area:.2f}')\n",
        "    except ValueError as e:\n",
        "        print(f'Помилка: {e}')"
      ]
    }
  ],
  "metadata": {
    "colab": {
      "collapsed_sections": [],
      "name": "Practice_10-11_KM_01_.ipynb",
      "provenance": []
    },
    "kernelspec": {
      "display_name": "Python 3",
      "name": "python3"
    },
    "language_info": {
      "codemirror_mode": {
        "name": "ipython",
        "version": 3
      },
      "file_extension": ".py",
      "mimetype": "text/x-python",
      "name": "python",
      "nbconvert_exporter": "python",
      "pygments_lexer": "ipython3",
      "version": "3.12.6"
    }
  },
  "nbformat": 4,
  "nbformat_minor": 0
}
