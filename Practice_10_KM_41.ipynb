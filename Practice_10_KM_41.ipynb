{
 "cells": [
  {
   "cell_type": "markdown",
   "metadata": {
    "id": "FMqboNwO4rVs"
   },
   "source": [
    "# **Курс \"Програмування на мові Python\"**"
   ]
  },
  {
   "cell_type": "markdown",
   "metadata": {
    "id": "A2T6MigL5Z06"
   },
   "source": [
    "## **Практичне зайняття №10**\n",
    "\n",
    "### Тема: \"Лямбда-функції. Функції вищих порядків\""
   ]
  },
  {
   "cell_type": "markdown",
   "metadata": {
    "id": "cfCdgK2zXm7e"
   },
   "source": [
    "### **Завдання 1 (1 бал)**\n",
    "\n",
    "Керівництво будівельної компанії вирішило підняти заробітні плати всім своїм працівникам на 30%. В залежності від спеціалізації та стажу працівники мають різну заробітну плату. Для підготовки звіту необхідно розрахувати нову заробітну плату для працівників компанії, а також суму індексації.\n",
    "\n",
    "Написати програму, яка буде генерувати таблицю для цього звіту. Початкова заробітна плата працівників подана у списку salary_list (у тисячах гривень). \n",
    "\n",
    "1. Для підрахунку невідомих значень повинні використовуватись вбудовані функції вищих порядків.\n",
    "\n",
    "2. Зарплата після індексації та сума індексації для працівників різних категорій повинні зберігатись у двох окремих списках. Порядок значень у кожному з нових списків повинен відповідати порядку значень у списку salary_list.\n",
    "\n",
    "3. Кожне підраховане числове значення має бути округлене до сотих.\n",
    "\n",
    "4. Дані повинні виводитись у вигляді:\n",
    "\n",
    "**Salary table:**\n",
    "\n",
    "**6.4 8.32 1.92**\n",
    "\n",
    "**9.35 12.16 2.81**\n",
    "\n",
    "**...**\n",
    "\n",
    "salary_list = [6.4, 9.35, 11.4, 14, 23.8, 28.15, 34.7]"
   ]
  },
  {
   "cell_type": "code",
   "execution_count": 1,
   "metadata": {
    "id": "ifNX2M7LXm7f"
   },
   "outputs": [
    {
     "name": "stdout",
     "output_type": "stream",
     "text": [
      "Salary table\n",
      "6.4 8.32 1.92\n",
      "9.35 12.15 2.8\n",
      "11.4 14.82 3.42\n",
      "14 18.2 4.2\n",
      "23.8 30.94 7.14\n",
      "28.15 36.59 8.44\n",
      "34.7 45.11 10.41\n"
     ]
    }
   ],
   "source": [
    "salary_list = [6.4, 9.35, 11.4, 14, 23.8, 28.15, 34.7]\n",
    "\n",
    "increase = list(map(lambda salary_list_func: salary_list_func * 0.3, salary_list))\n",
    "\n",
    "new_salary = list(map(lambda increase_func, salary_list_func: increase_func + salary_list_func, increase, salary_list))\n",
    "\n",
    "print('Salary table')\n",
    "for salary_list, new_salary, increase in zip(salary_list, new_salary, increase):\n",
    "    print(round(salary_list, 2), round(new_salary, 2), round(increase, 2))"
   ]
  },
  {
   "cell_type": "markdown",
   "metadata": {},
   "source": [
    "### **Завдання 2 (2 бали)**\n",
    "\n",
    "Зазвичай рік має 365 днів. Однак у високосні роки додається ще один день - 29 лютого. Правила визначення високосного року такі:\n",
    "\n",
    "- Будь-який рік, що ділиться на 400 - високосний.\n",
    "\n",
    "- З тих років, що залишились, будь-який рік, що ділиться на 100 - **не** високосний.\n",
    "\n",
    "- З тих років, що залишились, будь-який рік, що ділиться на 4 - високосний.\n",
    "\n",
    "- Усі інші роки, що залишились - **не** високосні.\n",
    "\n",
    "1) Створіть функцію, в якій за допомогою вбудованих функцій вищих порядків будуть визначатися високосні роки серед перелічених років у списку years. Створена функція має повертати список високосних років.\n",
    "\n",
    "2) Створіть функцію вищих порядків, яка прийматиме на вхід попередню функцію та визначатиме кількість днів у місяці. Також функція повинна приймати на вхід ще 2 параметри: ціле число від 1 до 12 (місяць) та рік, як ціле чотирицифрове число. Ці значення корисувач має вводити з клавіатури. Перевірку введених даних слід виконувати поза межами функцій."
   ]
  },
  {
   "cell_type": "code",
   "execution_count": 2,
   "metadata": {},
   "outputs": [
    {
     "name": "stdout",
     "output_type": "stream",
     "text": [
      "У 2000 році лютий мав 29 день/днів\n"
     ]
    }
   ],
   "source": [
    "import numpy as np\n",
    "\n",
    "years = np.arange(1900, 2021, 1)\n",
    "\n",
    "def is_leap_year(year):\n",
    "    if year % 400 == 0:\n",
    "        return True\n",
    "    elif year % 100 == 0:\n",
    "        return False\n",
    "    elif year % 4 == 0:\n",
    "        return True\n",
    "    else: \n",
    "        return False\n",
    "    \n",
    "def number_day(years, month):\n",
    "    years_bool =  is_leap_year(years)\n",
    "    days_in_months = [31, 29 if years_bool else 28, 31, 30, 31, 30, 31, 31, 30, 31, 30, 31]\n",
    "    month_name = ['січень', 'лютий', 'березень', 'квітень', 'травень', 'червень', \n",
    "          'липень', 'серпень', 'вересень', 'жовтень', 'листопад', 'грудень']\n",
    "    return days_in_months[month - 1], month_name[month - 1]\n",
    "\n",
    "while True:\n",
    "    try:\n",
    "        month = int(input(f'(...)Введіть місяць за номером (від 1 до 12): '))\n",
    "        if 1 <= month <= 12:\n",
    "            break\n",
    "        else:\n",
    "            print('(❌)Задане вами значення не відповідає заданому проміжку')\n",
    "            continue\n",
    "    except ValueError:\n",
    "        print('(❌)Задане вами значення не є цілим числом')\n",
    "        continue\n",
    "while True:\n",
    "    try:\n",
    "        user_years = int(input(f'(...)Введіть рік (від 1900 до 2021): '))\n",
    "        if 1900 <= user_years <= 2021:\n",
    "            break\n",
    "        else:\n",
    "            print('(❌)Задане вами значення не відповідає заданому проміжку')\n",
    "            continue\n",
    "    except ValueError:\n",
    "        print('(❌)Задане вами значення не є цілим числом')\n",
    "        continue\n",
    "\n",
    "days, month_name = number_day(user_years, month)\n",
    "\n",
    "print(f'У {user_years} році {month_name} мав {days} день/днів')"
   ]
  }
 ],
 "metadata": {
  "colab": {
   "collapsed_sections": [],
   "name": "Practice_7_KM-01_.ipynb",
   "provenance": []
  },
  "kernelspec": {
   "display_name": "Python 3",
   "name": "python3"
  },
  "language_info": {
   "codemirror_mode": {
    "name": "ipython",
    "version": 3
   },
   "file_extension": ".py",
   "mimetype": "text/x-python",
   "name": "python",
   "nbconvert_exporter": "python",
   "pygments_lexer": "ipython3",
   "version": "3.12.6"
  }
 },
 "nbformat": 4,
 "nbformat_minor": 0
}
