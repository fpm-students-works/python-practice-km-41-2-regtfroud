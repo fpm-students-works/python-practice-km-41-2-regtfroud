{
 "cells": [
  {
   "cell_type": "markdown",
   "metadata": {
    "id": "FMqboNwO4rVs"
   },
   "source": [
    "# **Курс \"Програмування на мові Python\"**"
   ]
  },
  {
   "cell_type": "markdown",
   "metadata": {
    "id": "A2T6MigL5Z06"
   },
   "source": [
    "## **Практичне зайняття №9**\n",
    "\n",
    "### Тема: \"Робота з функціями. Локальні та глобальні змінні\""
   ]
  },
  {
   "cell_type": "markdown",
   "metadata": {
    "id": "cfCdgK2zXm7e"
   },
   "source": [
    "### **Завдання 1 (3 бали)**\n",
    "\n",
    "**Підрахувати визначник матриці, використовуючи правило перестановок.**\n",
    "\n",
    "Функція random_matrix() призначена для створення квадратної матриці випадкових чисел. Її змінювати непотрібно.\n",
    "\n",
    "Приклад використання методу permutations() для створення списку перестановок також подається у комірці з кодом.\n",
    "\n",
    "1) Створити 3 функції: функцію створення списку перестановок, функцію підрахунку добутків та функцію підрахунку загальної суми.\n",
    "\n",
    "2) Кожна функція має супроводжуватись рядком документації, що буде коротко описувати її призначення.\n",
    "\n",
    "3) Розмірність квадратної матриці має вводитись користувачем з клавіатури. Підрахунки виконувати лише в тому разі, якщо користувач введе ціле додатне число.\n",
    "\n",
    "4) Загальний результат повинен підраховуватись за допомогою композиції функцій.\n",
    "\n",
    "За бажанням можна перевірити правильність роботи програми за допомогою функції np.linalg.det(a)."
   ]
  },
  {
   "cell_type": "code",
   "execution_count": 1,
   "metadata": {
    "id": "ifNX2M7LXm7f"
   },
   "outputs": [
    {
     "name": "stdout",
     "output_type": "stream",
     "text": [
      "Матриця:\n",
      "[[9 7 9 5 5]\n",
      " [1 3 9 4 1]\n",
      " [8 5 4 2 2]\n",
      " [6 4 0 1 1]\n",
      " [3 9 0 5 2]]\n",
      "Детермінант визначений за допомогою перестановок: -291\n",
      "Детермінант визначений за допомогою бібліотеки NumPy: -291.00000000000114\n"
     ]
    }
   ],
   "source": [
    "import numpy as np\n",
    "import itertools\n",
    "\n",
    "def random_matrix(dim):\n",
    "    '''\n",
    "    The function generates dim x dim array of integers\n",
    "    between 0 and 10.\n",
    "    '''\n",
    "    matrix = np.random.randint(10, size = (dim, dim))\n",
    "    return matrix\n",
    "\n",
    "def list_permutations(matrix):\n",
    "    '''\n",
    "    The function generates a list of permutations\n",
    "    for the given matrix.\n",
    "    '''\n",
    "    return list(itertools.permutations(range(matrix)))\n",
    "\n",
    "def calc_sign(permutations):\n",
    "    '''\n",
    "    The function calculates the sign for each of the permutations,\n",
    "    taking into account the number of inversions.\n",
    "    '''\n",
    "    inversion = 0\n",
    "    for index_a in range(len(permutations)):\n",
    "        for index_b in range(index_a + 1, len(permutations)):\n",
    "            if permutations[index_a] > permutations[index_b]:\n",
    "                inversion += 1\n",
    "    if inversion % 2:\n",
    "        return -1\n",
    "    else:\n",
    "        return 1\n",
    "\n",
    "def calc_product(matrix, permutations):\n",
    "    '''\n",
    "    The function calculates the product of matrix elements\n",
    "    according to the specified permutation.\n",
    "    '''\n",
    "    product = 1\n",
    "    for index in range(len(permutations)):\n",
    "        product *= matrix[index][permutations[index]]\n",
    "    return product\n",
    "\n",
    "def calc_det(matrix):\n",
    "    '''\n",
    "    The function calculates the determinant of\n",
    "    a matrix using the permutation rule.\n",
    "    '''\n",
    "    permutations = list_permutations(len(matrix))\n",
    "    det = 0\n",
    "    for element in permutations:\n",
    "        sign = calc_sign(element)\n",
    "        product = calc_product(matrix, element)\n",
    "        det += sign * product\n",
    "    return det\n",
    "\n",
    "size = int(input('(...)Введіть довільне додатне значення для розмірності матриці: '))\n",
    "matrix = random_matrix(size)\n",
    "\n",
    "det = calc_det(matrix)\n",
    "det_linalg = np.linalg.det(matrix)\n",
    "\n",
    "print(f'Матриця:\\n{matrix}')\n",
    "print(f'Детермінант визначений за допомогою перестановок: {det}')\n",
    "print(f'Детермінант визначений за допомогою бібліотеки NumPy: {det_linalg}')"
   ]
  }
 ],
 "metadata": {
  "colab": {
   "collapsed_sections": [],
   "name": "Practice_7_KM-01_.ipynb",
   "provenance": []
  },
  "kernelspec": {
   "display_name": "Python 3",
   "language": "python",
   "name": "python3"
  },
  "language_info": {
   "codemirror_mode": {
    "name": "ipython",
    "version": 3
   },
   "file_extension": ".py",
   "mimetype": "text/x-python",
   "name": "python",
   "nbconvert_exporter": "python",
   "pygments_lexer": "ipython3",
   "version": "3.12.6"
  }
 },
 "nbformat": 4,
 "nbformat_minor": 0
}
